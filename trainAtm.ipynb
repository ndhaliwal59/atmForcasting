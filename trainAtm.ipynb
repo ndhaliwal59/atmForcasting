{
 "cells": [
  {
   "cell_type": "code",
   "execution_count": 1,
   "id": "b2c7a10b",
   "metadata": {},
   "outputs": [],
   "source": [
    "import pandas as pd\n",
    "from sklearn.model_selection import train_test_split\n",
    "from sklearn.preprocessing import OneHotEncoder, StandardScaler\n",
    "from sklearn.compose import ColumnTransformer\n",
    "from sklearn.pipeline import Pipeline\n",
    "from sklearn.ensemble import RandomForestRegressor\n",
    "from sklearn.linear_model import LinearRegression\n",
    "from xgboost import XGBRegressor \n",
    "from sklearn.metrics import mean_absolute_error, r2_score\n",
    "import joblib\n",
    "df = pd.read_csv('data/atm.csv')"
   ]
  },
  {
   "cell_type": "code",
   "execution_count": 2,
   "id": "a2799292",
   "metadata": {},
   "outputs": [
    {
     "name": "stdout",
     "output_type": "stream",
     "text": [
      "Training RandomForest...\n",
      "RandomForest - MAE: 5221.849, R^2: 0.858\n",
      "Training XGBoost...\n",
      "XGBoost - MAE: 5350.181, R^2: 0.842\n",
      "Training LinearRegression...\n",
      "LinearRegression - MAE: 5043.146, R^2: 0.870\n",
      "\n",
      "Best model: LinearRegression (R² = 0.870)\n"
     ]
    }
   ],
   "source": [
    "# Drop ATM_ID and Month_Label columns\n",
    "X = df.drop(columns=['Cash_Demand_Next_Day', 'ATM_ID'])\n",
    "Y = df['Cash_Demand_Next_Day']\n",
    "\n",
    "# Define categorical columns for encoding\n",
    "categorical_cols = ['Day_of_Week', 'Time_of_Day', 'Location_Type', 'Weather_Condition']\n",
    "# Define numeric columns for scaling\n",
    "numeric_cols = ['Total_Withdrawals', 'Total_Deposits', 'Holiday_Flag', 'Special_Event_Flag', 'Previous_Day_Cash_Level', 'Nearby_Competitor_ATMs']\n",
    "\n",
    "# Split dataset into train and test\n",
    "X_train, X_test, Y_train, Y_test = train_test_split(X, Y, test_size=0.2, random_state=42)\n",
    "\n",
    "# Create preprocessor with OneHotEncoder and StandardScaler\n",
    "preprocessor = ColumnTransformer(\n",
    "    transformers=[\n",
    "        ('cat', OneHotEncoder(handle_unknown='ignore'), categorical_cols),\n",
    "        ('num', StandardScaler(), numeric_cols)\n",
    "    ]\n",
    ")\n",
    "\n",
    "\n",
    "# Create model pipelines\n",
    "models = {\n",
    "    'RandomForest': Pipeline([('preprocessor', preprocessor), \n",
    "                             ('regressor', RandomForestRegressor(random_state=42))]),\n",
    "    \n",
    "    'XGBoost': Pipeline([('preprocessor', preprocessor), \n",
    "                        ('regressor', XGBRegressor(random_state=42, eval_metric='rmse'))]),\n",
    "    \n",
    "    'LinearRegression': Pipeline([('preprocessor', preprocessor), \n",
    "                                 ('regressor', LinearRegression())])\n",
    "}\n",
    "\n",
    "# Train and evaluate all models\n",
    "results = {}\n",
    "for name, model in models.items():\n",
    "    print(f\"Training {name}...\")\n",
    "    model.fit(X_train, Y_train)\n",
    "    Y_pred = model.predict(X_test)\n",
    "    \n",
    "    mae = mean_absolute_error(Y_test, Y_pred)\n",
    "    r2 = r2_score(Y_test, Y_pred)\n",
    "    results[name] = {'MAE': mae, 'R2': r2}\n",
    "    \n",
    "    print(f\"{name} - MAE: {mae:.3f}, R^2: {r2:.3f}\")\n",
    "    \n",
    "    # Save each model\n",
    "    joblib.dump(model, f'atm_cash_demand_model_{name.lower()}.joblib')\n",
    "\n",
    "# Find best model based on R²\n",
    "best_model = max(results.keys(), key=lambda x: results[x]['R2'])\n",
    "print(f\"\\nBest model: {best_model} (R² = {results[best_model]['R2']:.3f})\")\n"
   ]
  }
 ],
 "metadata": {
  "kernelspec": {
   "display_name": "Python 3",
   "language": "python",
   "name": "python3"
  },
  "language_info": {
   "codemirror_mode": {
    "name": "ipython",
    "version": 3
   },
   "file_extension": ".py",
   "mimetype": "text/x-python",
   "name": "python",
   "nbconvert_exporter": "python",
   "pygments_lexer": "ipython3",
   "version": "3.12.6"
  }
 },
 "nbformat": 4,
 "nbformat_minor": 5
}
